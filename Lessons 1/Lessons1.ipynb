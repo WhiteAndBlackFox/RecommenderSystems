{
 "cells": [
  {
   "cell_type": "markdown",
   "source": [
    "##  Постановка задачи\n",
    "\n",
    "*Задача рекомендаций* - предложить пользователю товары, которые ему \"понравятся\"\n",
    "\n",
    "Компоненты:\n",
    "    - Пользователи (users)\n",
    "    - Товары (items)\n",
    "    - Взаимодействия (interactions) - по ним понимаем, что товар \"понравился\""
   ],
   "metadata": {
    "collapsed": false
   }
  },
  {
   "cell_type": "markdown",
   "source": [
    "---\n"
   ],
   "metadata": {
    "collapsed": false
   }
  },
  {
   "cell_type": "markdown",
   "source": [
    "**Кейс**: определить в каждой ситуации, что является пользователем, а что - товаром\n",
    "\n",
    "    1. На сайте Кинопоиска порекомендовать интересные фильмы\n",
    "    2. На сайте hh.ru подобрать лучшие вакансии для соискателя вакансий\n",
    "    3. На сайте hh.ru найти похожие вакансии на ту, которую сейчас просматривает пользователь (\"вам также может понравиться\")\n",
    "    3. На сайте hh.ru подобрать лучших кандидатов для работодателя\n",
    "\n",
    "*Пример ответа в чате:*\n",
    "    1. Пользователь (П) - фильм, Товар (T) - фильм\n",
    "    2. П - работодатель, Т - соискатель вакансий"
   ],
   "metadata": {
    "collapsed": false
   }
  },
  {
   "cell_type": "markdown",
   "source": [
    "---"
   ],
   "metadata": {
    "collapsed": false
   }
  },
  {
   "cell_type": "markdown",
   "source": [
    "## В чем отличие от классификации?"
   ],
   "metadata": {
    "collapsed": false
   }
  },
  {
   "cell_type": "code",
   "execution_count": 1,
   "outputs": [],
   "source": [
    "import pandas as pd\n",
    "import numpy as np"
   ],
   "metadata": {
    "collapsed": false,
    "pycharm": {
     "name": "#%%\n"
    }
   }
  },
  {
   "cell_type": "code",
   "execution_count": 2,
   "outputs": [
    {
     "data": {
      "text/plain": "      user              item  purchase_fact\n0     Иван  Хлеб Бородинский              1\n1     Иван        Хлеб Белый              0\n2  Василий      Йогурт Epica              1",
      "text/html": "<div>\n<style scoped>\n    .dataframe tbody tr th:only-of-type {\n        vertical-align: middle;\n    }\n\n    .dataframe tbody tr th {\n        vertical-align: top;\n    }\n\n    .dataframe thead th {\n        text-align: right;\n    }\n</style>\n<table border=\"1\" class=\"dataframe\">\n  <thead>\n    <tr style=\"text-align: right;\">\n      <th></th>\n      <th>user</th>\n      <th>item</th>\n      <th>purchase_fact</th>\n    </tr>\n  </thead>\n  <tbody>\n    <tr>\n      <th>0</th>\n      <td>Иван</td>\n      <td>Хлеб Бородинский</td>\n      <td>1</td>\n    </tr>\n    <tr>\n      <th>1</th>\n      <td>Иван</td>\n      <td>Хлеб Белый</td>\n      <td>0</td>\n    </tr>\n    <tr>\n      <th>2</th>\n      <td>Василий</td>\n      <td>Йогурт Epica</td>\n      <td>1</td>\n    </tr>\n  </tbody>\n</table>\n</div>"
     },
     "execution_count": 2,
     "metadata": {},
     "output_type": "execute_result"
    }
   ],
   "source": [
    "pd.DataFrame([['Иван', 'Хлеб Бородинский', 1],\n",
    "             ['Иван', 'Хлеб Белый', 0],\n",
    "             ['Василий', 'Йогурт Epica', 1]], columns=['user', 'item', 'purchase_fact'])"
   ],
   "metadata": {
    "collapsed": false,
    "pycharm": {
     "name": "#%%\n"
    }
   }
  },
  {
   "cell_type": "markdown",
   "source": [
    "Постойте, ведь можно добавить фичи на user (средний чек, кол-во покупок в категориях и т.д),\n",
    "на item (цена, кол-во продаж в неделю и т.l), и решать задачу классификации. В чем отличие RecSys от классификации?\n",
    "\n",
    " - Много предсказаний для 1 user (extreme classification)\n",
    " - Гораздо больший объем данных: 100K users, 10K items --> 1B предсказаний\n",
    " - Большинство товаров user никогда не видел --> Не взаимодействовал --> 0 не значит \"не понравился\"\n",
    " - Нет явного таргета. Не понятно, что значит \"(не) понравился\"\n",
    " - Feedback loop\n",
    " - Иногдаь важен порядок рекомендаций"
   ],
   "metadata": {
    "collapsed": false
   }
  },
  {
   "cell_type": "code",
   "execution_count": 3,
   "outputs": [
    {
     "data": {
      "text/plain": "      user              item purchase_fact\n0     Иван  Хлеб Бородинский             1\n1     Иван        Хлеб Белый             0\n2     Иван      Йогурт Epica             ?\n3  Василий  Хлеб Бородинский             ?\n4  Василий        Хлеб Белый             ?\n5  Василий      Йогурт Epica             1",
      "text/html": "<div>\n<style scoped>\n    .dataframe tbody tr th:only-of-type {\n        vertical-align: middle;\n    }\n\n    .dataframe tbody tr th {\n        vertical-align: top;\n    }\n\n    .dataframe thead th {\n        text-align: right;\n    }\n</style>\n<table border=\"1\" class=\"dataframe\">\n  <thead>\n    <tr style=\"text-align: right;\">\n      <th></th>\n      <th>user</th>\n      <th>item</th>\n      <th>purchase_fact</th>\n    </tr>\n  </thead>\n  <tbody>\n    <tr>\n      <th>0</th>\n      <td>Иван</td>\n      <td>Хлеб Бородинский</td>\n      <td>1</td>\n    </tr>\n    <tr>\n      <th>1</th>\n      <td>Иван</td>\n      <td>Хлеб Белый</td>\n      <td>0</td>\n    </tr>\n    <tr>\n      <th>2</th>\n      <td>Иван</td>\n      <td>Йогурт Epica</td>\n      <td>?</td>\n    </tr>\n    <tr>\n      <th>3</th>\n      <td>Василий</td>\n      <td>Хлеб Бородинский</td>\n      <td>?</td>\n    </tr>\n    <tr>\n      <th>4</th>\n      <td>Василий</td>\n      <td>Хлеб Белый</td>\n      <td>?</td>\n    </tr>\n    <tr>\n      <th>5</th>\n      <td>Василий</td>\n      <td>Йогурт Epica</td>\n      <td>1</td>\n    </tr>\n  </tbody>\n</table>\n</div>"
     },
     "execution_count": 3,
     "metadata": {},
     "output_type": "execute_result"
    }
   ],
   "source": [
    "pd.DataFrame([['Иван', 'Хлеб Бородинский', 1],\n",
    "              ['Иван', 'Хлеб Белый', 0],\n",
    "              ['Иван', 'Йогурт Epica', \"?\"],\n",
    "              ['Василий', 'Хлеб Бородинский', \"?\"],\n",
    "              ['Василий', 'Хлеб Белый', \"?\"],\n",
    "              ['Василий', 'Йогурт Epica', 1]], columns=['user', 'item', 'purchase_fact'])"
   ],
   "metadata": {
    "collapsed": false,
    "pycharm": {
     "name": "#%%\n"
    }
   }
  },
  {
   "cell_type": "markdown",
   "source": [
    "----"
   ],
   "metadata": {
    "collapsed": false
   }
  },
  {
   "cell_type": "markdown",
   "source": [
    "## Основные типы задач:\n",
    "\n",
    "**Рекомендация топ-К товаров**: Дан список товаров. Рекомендовать пользователю K товаров, которые ему понравятся\n",
    "    - e-mail рассылки (М.Видео, Hoff, Пятерочка)\n",
    "    - push-уведомления (Delivery Club, HeadHunter, Виктория)\n",
    "    - Рекомендации в отдельном окне на сайте (vk, okko)\n",
    "\n",
    "**Ранжирование товаров**: Дан список товаров. Нужно его отранжировать в порядке убывания интереса для пользователя\n",
    "    - Ранжирование каталога товаров (Wildberries, Lamoda)\n",
    "    - Ранжирование ленты (vk, Я.Дзен)\n",
    "    - Ранжирование поисковой выдачи (Яндекс, Гугл)\n",
    "    - Ранжирование \"каруселей\" товаров (Delivery Club, Я.Еда)\n",
    "\n",
    "**Поиск похожих товаров**: Дан 1 товар. Нужно найти наиболее похожие на него товары\n",
    "    - \"Вам также может понравиться\" (Ozon, Циан)\n",
    "    - Похожим пользователям понравилось (vk)\n",
    "    - Вы можете быть знакомы (vk, facebook)\n",
    "\n",
    "**Рекомендация дополнителдьного товара**. Дан 1 товар. Найти товары, которые покупают вместе с этим товаром\n",
    "    - С этим товаром часто покупают (Я.Маркет, Ozon, М.Видео)\n",
    "\n",
    "\n",
    "---\n",
    "На 7 вебинаре мы разберем рекомендательные системы из HeadHunter, Я.Дзен и vk"
   ],
   "metadata": {
    "collapsed": false
   }
  },
  {
   "cell_type": "markdown",
   "source": [
    "---"
   ],
   "metadata": {
    "collapsed": false
   }
  },
  {
   "cell_type": "markdown",
   "source": [
    "# 2. ML-mетрики качества"
   ],
   "metadata": {
    "collapsed": false
   }
  },
  {
   "cell_type": "markdown",
   "source": [
    "*Хороши ли рекомендации, предлагаемые моделью?*\n",
    "Обычно считаются для каждого юзера, затем усредняются по юзерам"
   ],
   "metadata": {
    "collapsed": false
   }
  },
  {
   "cell_type": "markdown",
   "source": [
    "Представим, что в магазине всего 10 товаров"
   ],
   "metadata": {
    "collapsed": false
   }
  },
  {
   "cell_type": "code",
   "execution_count": 4,
   "outputs": [],
   "source": [
    "recommended_list = [143, 156, 1134, 991, 27, 1543, 3345, 533, 11, 43] #id товаров\n",
    "bought_list = [521, 32, 143, 991]\n",
    "\n",
    "# пришлось добавить, чтобы протестировать\n",
    "prices_recommended = [43, 30, 82, 189, 61, 33, 78, 167, 121, 104]\n",
    "prices_bought = [121, 61, 43, 104]\n",
    "\n",
    "recommended_list_map_k = [[143, 156, 1134, 991, 27, 1543, 3345, 533, 11, 43],\n",
    "                    [1134, 533, 143, 43, 156, 1543, 11, 991, 27, 3345],\n",
    "                    [991, 3345, 27, 533, 43, 143, 1543, 156, 1134, 11]]\n",
    "\n",
    "bought_list_map_k = [[521, 32, 143, 991], [143, 156, 991, 43, 11], []]"
   ],
   "metadata": {
    "collapsed": false,
    "pycharm": {
     "name": "#%%\n"
    }
   }
  },
  {
   "cell_type": "markdown",
   "source": [
    "### 1. Hit rate\n",
    "\n",
    "Hit rate = был ли хотя бы 1 релевантный товар среди рекомендованных\n",
    "\n",
    "- Иногда применяется, когда продаются достаточно дорогие товары (например, бытовая техника)\n",
    "\n",
    "----\n",
    "Hit rate = (был ли хотя бы 1 релевантный товар среди рекомендованных)\n",
    "\n",
    "Hit rate@k = (был ли хотя бы 1 релевантный товар среди топ-k рекомендованных)"
   ],
   "metadata": {
    "collapsed": false
   }
  },
  {
   "cell_type": "code",
   "execution_count": 5,
   "outputs": [],
   "source": [
    "def hit_rate(recommended_list, bought_list):\n",
    "\n",
    "    bought_list = np.array(bought_list)\n",
    "    recommended_list = np.array(recommended_list)\n",
    "\n",
    "    flags = np.isin(bought_list, recommended_list)\n",
    "\n",
    "    hit_rate = (flags.sum() > 0) * 1\n",
    "\n",
    "    return hit_rate\n",
    "\n",
    "\n",
    "def hit_rate_at_k(recommended_list, bought_list, k=5):\n",
    "\n",
    "    np_bought_list = np.array(bought_list)\n",
    "    np_recommended_list = np.array(recommended_list[:k])\n",
    "\n",
    "    flags = np.isin(np_bought_list, np_recommended_list)\n",
    "\n",
    "    hit_rate = (flags.sum() > 0) * 1\n",
    "\n",
    "    return hit_rate"
   ],
   "metadata": {
    "collapsed": false,
    "pycharm": {
     "name": "#%%\n"
    }
   }
  },
  {
   "cell_type": "code",
   "execution_count": 6,
   "outputs": [
    {
     "data": {
      "text/plain": "1"
     },
     "execution_count": 6,
     "metadata": {},
     "output_type": "execute_result"
    }
   ],
   "source": [
    "hit_rate(recommended_list, bought_list)"
   ],
   "metadata": {
    "collapsed": false,
    "pycharm": {
     "name": "#%%\n"
    }
   }
  },
  {
   "cell_type": "code",
   "execution_count": 7,
   "outputs": [
    {
     "data": {
      "text/plain": "1"
     },
     "execution_count": 7,
     "metadata": {},
     "output_type": "execute_result"
    }
   ],
   "source": [
    "hit_rate_at_k(recommended_list, bought_list)"
   ],
   "metadata": {
    "collapsed": false,
    "pycharm": {
     "name": "#%%\n"
    }
   }
  },
  {
   "cell_type": "markdown",
   "source": [
    "### 2. Precision\n",
    "\n",
    "*Precision* - доля релевантных товаров среди рекомендованных = Какой % рекомендованных товаров  юзер купил\n",
    "\n",
    "- Пожалуй, самая приближенная к бизнес-метрикам и самая популярная метрика\n",
    "\n",
    "---\n",
    "\n",
    "Precision= (# of recommended items that are relevant) / (# of recommended items)\n",
    "\n",
    "Precision@k = (# of recommended items @k that are relevant) / (# of recommended items @k)\n",
    "\n",
    "Money Precision@k = (revenue of recommended items @k that are relevant) / (revenue of recommended items @k)\n",
    "\n",
    "**Note:** Обычно k в precision@k достаточно невелико (5-20) и определяется из бизнес-логики. Например, 5 товаров в e-mail рассылке, 20 ответов на первой странице google и т.д"
   ],
   "metadata": {
    "collapsed": false
   }
  },
  {
   "cell_type": "markdown",
   "source": [
    "Красная рыба - 400 руб\n",
    "Молоко - 60 руб\n",
    "Хлеб = 40 руб\n",
    "Гречка = 40 руб\n",
    "Шоколад = 90 руб\n",
    "\n",
    "------\n",
    "Варенье - 240 руб\n",
    "...\n",
    "\n",
    "**Case 1**\n",
    "prices_resommended = [400, 60, 40, 40 , 90]\n",
    "flags = [1, 0, 0, 0 , 1]\n",
    "\n",
    "$precison@5 = \\frac{1 + 0 + 0 +0 + 1}{1+1+1+1+1} = 40\\%$\n",
    "$money precision@5 = \\frac{1*400 + 0*60 + ... + 1*90}{1*400 + 1*60 + ... + 1*90} = 77.7\\%$\n",
    "\n",
    "\n",
    "**Case 2**\n",
    "prices_resommended = [400, 60, 40, 40 , 90]\n",
    "flags = [0, 1, 0, 0 , 1]\n",
    "\n",
    "$precison@5 = \\frac{0 + 1 + 0 +0 + 1}{1+1+1+1+1} = 40\\%$\n",
    "$money precision@5 = \\frac{0*400 + 1*60 + ... + 1*90}{1*400 + 1*60 + ... + 1*90} = 15.8\\%$"
   ],
   "metadata": {
    "collapsed": false
   }
  },
  {
   "cell_type": "code",
   "execution_count": 8,
   "outputs": [],
   "source": [
    "def precision(recommended_list, bought_list):\n",
    "\n",
    "    bought_list = np.array(bought_list)\n",
    "    recommended_list = np.array(recommended_list)\n",
    "\n",
    "    flags = np.isin(bought_list, recommended_list)\n",
    "\n",
    "    precision = flags.sum() / len(recommended_list)\n",
    "\n",
    "    return precision\n",
    "\n",
    "\n",
    "def precision_at_k(recommended_list, bought_list, k=5):\n",
    "\n",
    "    bought_list = np.array(bought_list)\n",
    "    recommended_list = np.array(recommended_list)\n",
    "\n",
    "    bought_list = bought_list  # Тут нет [:k] !!\n",
    "    recommended_list = recommended_list[:k]\n",
    "\n",
    "    flags = np.isin(bought_list, recommended_list)\n",
    "    precision = flags.sum() / len(recommended_list)\n",
    "\n",
    "\n",
    "    return precision\n",
    "\n",
    "\n",
    "\n",
    "def money_precision_at_k(recommended_list, bought_list, prices_recommended, k=5):\n",
    "\n",
    "    np_recommended_list = np.array(recommended_list)[:k]\n",
    "    np_bought_list = np.array(bought_list)\n",
    "    np_prices_recommended = np.array(prices_recommended)[:k]\n",
    "\n",
    "    flags = np.isin(np_recommended_list, np_bought_list)\n",
    "\n",
    "    return (np_prices_recommended * flags).sum() / np_prices_recommended.sum()"
   ],
   "metadata": {
    "collapsed": false,
    "pycharm": {
     "name": "#%%\n"
    }
   }
  },
  {
   "cell_type": "code",
   "execution_count": 9,
   "outputs": [
    {
     "data": {
      "text/plain": "0.2"
     },
     "execution_count": 9,
     "metadata": {},
     "output_type": "execute_result"
    }
   ],
   "source": [
    "precision(recommended_list, bought_list)"
   ],
   "metadata": {
    "collapsed": false,
    "pycharm": {
     "name": "#%%\n"
    }
   }
  },
  {
   "cell_type": "code",
   "execution_count": 10,
   "outputs": [
    {
     "data": {
      "text/plain": "0.4"
     },
     "execution_count": 10,
     "metadata": {},
     "output_type": "execute_result"
    }
   ],
   "source": [
    "precision_at_k(recommended_list, bought_list, k=5)"
   ],
   "metadata": {
    "collapsed": false,
    "pycharm": {
     "name": "#%%\n"
    }
   }
  },
  {
   "cell_type": "code",
   "execution_count": 11,
   "outputs": [
    {
     "data": {
      "text/plain": "0.3333333333333333"
     },
     "execution_count": 11,
     "metadata": {},
     "output_type": "execute_result"
    }
   ],
   "source": [
    "precision_at_k(recommended_list, bought_list, k=3)"
   ],
   "metadata": {
    "collapsed": false,
    "pycharm": {
     "name": "#%%\n"
    }
   }
  },
  {
   "cell_type": "code",
   "execution_count": 12,
   "outputs": [
    {
     "data": {
      "text/plain": "0.5728395061728395"
     },
     "execution_count": 12,
     "metadata": {},
     "output_type": "execute_result"
    }
   ],
   "source": [
    "money_precision_at_k(recommended_list, bought_list, prices_recommended)"
   ],
   "metadata": {
    "collapsed": false,
    "pycharm": {
     "name": "#%%\n"
    }
   }
  },
  {
   "cell_type": "markdown",
   "source": [
    "### 3. Recall\n",
    "\n",
    "*Recall* - доля рекомендованных товаров среди релевантных = Какой % купленных товаров был среди рекомендованных\n",
    "\n",
    "- Обычно используется для моделей пре-фильтрации товаров (убрать те товары, которые точно не будем рекомендовать)\n",
    "\n",
    "---\n",
    "\n",
    "Recall= (# of recommended items that are relevant) / (# of relevant items)\n",
    "\n",
    "Recall@k = (# of recommended items @k that are relevant) / (# of relevant items)\n",
    "\n",
    "Money Recall@k = (revenue of recommended items @k that are relevant) / (revenue of relevant items)\n",
    "\n",
    "\n",
    "\n",
    "**Note:** в recall@k число k обычно достаточно большое (50-200), больше чем покупок у среднестатистического юзера"
   ],
   "metadata": {
    "collapsed": false
   }
  },
  {
   "cell_type": "code",
   "execution_count": 13,
   "outputs": [],
   "source": [
    "def recall(recommended_list, bought_list):\n",
    "\n",
    "    bought_list = np.array(bought_list)\n",
    "    recommended_list = np.array(recommended_list)\n",
    "\n",
    "    flags = np.isin(bought_list, recommended_list)\n",
    "\n",
    "    recall = flags.sum() / len(bought_list)\n",
    "\n",
    "    return recall\n",
    "\n",
    "\n",
    "def recall_at_k(recommended_list, bought_list, k=5):\n",
    "\n",
    "    np_bought_list = np.array(bought_list)\n",
    "    np_recommended_list = np.array(recommended_list[:k])\n",
    "\n",
    "    flags = np.isin(np_bought_list, np_recommended_list)\n",
    "\n",
    "    recall = flags.sum() / len(bought_list)\n",
    "\n",
    "    return recall\n",
    "\n",
    "\n",
    "def money_recall_at_k(recommended_list, bought_list, prices_recommended, prices_bought, k=5):\n",
    "\n",
    "    np_recommended_list = np.array(recommended_list)[:k]\n",
    "    np_bought_list = np.array(bought_list)\n",
    "    np_prices_recommended = np.array(prices_recommended)[:k]\n",
    "    np_prices_bought = np.array(prices_bought)\n",
    "\n",
    "    flags = np.isin(np_recommended_list, np_bought_list)\n",
    "\n",
    "    return (flags * np_prices_recommended).sum() / np_prices_bought.sum()"
   ],
   "metadata": {
    "collapsed": false,
    "pycharm": {
     "name": "#%%\n"
    }
   }
  },
  {
   "cell_type": "code",
   "execution_count": 14,
   "outputs": [
    {
     "data": {
      "text/plain": "0.5"
     },
     "execution_count": 14,
     "metadata": {},
     "output_type": "execute_result"
    }
   ],
   "source": [
    "recall(recommended_list, bought_list)"
   ],
   "metadata": {
    "collapsed": false,
    "pycharm": {
     "name": "#%%\n"
    }
   }
  },
  {
   "cell_type": "code",
   "execution_count": 15,
   "outputs": [
    {
     "data": {
      "text/plain": "0.5"
     },
     "execution_count": 15,
     "metadata": {},
     "output_type": "execute_result"
    }
   ],
   "source": [
    "recall_at_k(recommended_list, bought_list)"
   ],
   "metadata": {
    "collapsed": false,
    "pycharm": {
     "name": "#%%\n"
    }
   }
  },
  {
   "cell_type": "code",
   "execution_count": 16,
   "outputs": [
    {
     "data": {
      "text/plain": "0.7051671732522796"
     },
     "execution_count": 16,
     "metadata": {},
     "output_type": "execute_result"
    }
   ],
   "source": [
    "money_recall_at_k(recommended_list, bought_list, prices_recommended, prices_bought)"
   ],
   "metadata": {
    "collapsed": false,
    "pycharm": {
     "name": "#%%\n"
    }
   }
  },
  {
   "cell_type": "markdown",
   "source": [
    "---"
   ],
   "metadata": {
    "collapsed": false
   }
  },
  {
   "cell_type": "markdown",
   "source": [
    "# Метрики ранжирования"
   ],
   "metadata": {
    "collapsed": false
   }
  },
  {
   "cell_type": "markdown",
   "source": [
    "Если важен порядок рекомендаций. Подробнее можно почитать [здесь](https://habr.com/ru/company/econtenta/blog/303458/). Формулы в статье могут несколько отличаться от формул в лекции"
   ],
   "metadata": {
    "collapsed": false
   }
  },
  {
   "cell_type": "markdown",
   "source": [
    "## AP@k\n",
    "AP@k - average precision at k\n",
    "\n",
    "$$AP@k = \\frac{1}{r} \\sum{[recommended_{relevant_i}] * precision@k}$$\n",
    "\n",
    "- r - кол-во релевантный среди рекомендованных\n",
    "- Суммируем по всем релевантным товарам\n",
    "- Зависит от порядка реокмендаций"
   ],
   "metadata": {
    "collapsed": false
   }
  },
  {
   "cell_type": "code",
   "execution_count": 17,
   "outputs": [],
   "source": [
    "def ap_k(recommended_list, bought_list, k=5):\n",
    "\n",
    "    bought_list = np.array(bought_list)\n",
    "    recommended_list = np.array(recommended_list)[:k]\n",
    "\n",
    "    relevant_indexes = np.nonzero(np.isin(recommended_list, bought_list))[0]\n",
    "    if len(relevant_indexes) == 0:\n",
    "        return 0\n",
    "    amount_relevant = len(relevant_indexes)\n",
    "\n",
    "    sum_ = sum([precision_at_k(recommended_list, bought_list, k=index_relevant+1) for index_relevant in relevant_indexes])\n",
    "    return sum_/amount_relevant"
   ],
   "metadata": {
    "collapsed": false,
    "pycharm": {
     "name": "#%%\n"
    }
   }
  },
  {
   "cell_type": "code",
   "execution_count": 18,
   "outputs": [
    {
     "data": {
      "text/plain": "0.75"
     },
     "execution_count": 18,
     "metadata": {},
     "output_type": "execute_result"
    }
   ],
   "source": [
    "ap_k(recommended_list, bought_list, k=5)"
   ],
   "metadata": {
    "collapsed": false,
    "pycharm": {
     "name": "#%%\n"
    }
   }
  },
  {
   "cell_type": "markdown",
   "source": [
    "### MAP@k\n",
    "\n",
    "MAP@k (Mean Average Precision@k)\n",
    "Среднее AP@k по всем юзерам\n",
    "- Показывает средневзвешенную точность рекомендаций\n",
    "\n",
    "$$MAP@k = \\frac{1}{|U|} \\sum_u{AP_k}$$\n",
    "\n",
    "|U| - кол-во юзеров"
   ],
   "metadata": {
    "collapsed": false
   }
  },
  {
   "cell_type": "code",
   "execution_count": 19,
   "outputs": [],
   "source": [
    "def map_k(recommended_list, bought_list, k=5):\n",
    "    result = []\n",
    "\n",
    "    for idx, rl in enumerate(recommended_list):\n",
    "        result.append(ap_k(rl, bought_list[idx], k))\n",
    "\n",
    "    return np.mean(result)"
   ],
   "metadata": {
    "collapsed": false,
    "pycharm": {
     "name": "#%%\n"
    }
   }
  },
  {
   "cell_type": "code",
   "execution_count": 20,
   "outputs": [
    {
     "data": {
      "text/plain": "0.4092592592592592"
     },
     "execution_count": 20,
     "metadata": {},
     "output_type": "execute_result"
    }
   ],
   "source": [
    "map_k(recommended_list_map_k, bought_list_map_k)"
   ],
   "metadata": {
    "collapsed": false,
    "pycharm": {
     "name": "#%%\n"
    }
   }
  },
  {
   "cell_type": "markdown",
   "source": [
    "### AUC@k\n",
    "AUC для первых k наблюдений\n",
    "- Можно посчитать как sklern.metrics.roc_auc_score для топ-k предсказаний\n",
    "- Показывает долю верно отранжированных товаров"
   ],
   "metadata": {
    "collapsed": false
   }
  },
  {
   "cell_type": "markdown",
   "source": [
    "### NDCG@k\n",
    "Normalized discounted cumulative gain\n",
    "\n",
    "$$DCG = \\frac{1}{|r|} \\sum_u{\\frac{[bought fact]}{discount(i)}}$$\n",
    "\n",
    "$discount(i) = i$ if $i <= 2$,\n",
    "$discount(i) = log_2(i)$ if $i > 2$\n",
    "\n",
    "\n",
    "(!) Считаем для первых k рекоммендаций\n",
    "(!) - существуют вариации с другими $discount(i)$\n",
    "i - ранк рекомендованного товара\n",
    "|r| - кол-во рекомендованных товаров\n",
    "\n",
    "$$NDCG = \\frac{DCG}{ideal DCG}$$"
   ],
   "metadata": {
    "collapsed": false
   }
  },
  {
   "cell_type": "markdown",
   "source": [
    "$DCG@5 = \\frac{1}{5}*(1 / 1 + 0 / 2 + 0 / log(3) + 1 / log(4) + 0 / log(5))$\n",
    "$ideal DCG@5 = \\frac{1}{5}*(1 / 1 + 1 / 2 + 1 / log(3) + 1 / log(4) + 1 / log(5))$\n",
    "\n",
    "$NDCG = \\frac{DCG}{ideal DCG}$"
   ],
   "metadata": {
    "collapsed": false
   }
  },
  {
   "cell_type": "markdown",
   "source": [
    "### MRR@k\n",
    "Mean Reciprocal Rank\n",
    "\n",
    "- Считаем для первых k рекоммендаций\n",
    "- Найти ранк первого релевантного предсказания $k_u$\n",
    "- Посчитать reciprocal rank = $\\frac{1}{k_u}$\n",
    "\n",
    "$$MRR = mean(\\frac{1}{k_u})$$"
   ],
   "metadata": {
    "collapsed": false
   }
  },
  {
   "cell_type": "code",
   "execution_count": 21,
   "outputs": [],
   "source": [
    "def reciprocal_rank(recommended_list, bought_list):\n",
    "    flags = np.isin(bought_list, recommended_list)\n",
    "    rank = np.where(flags == True)[0]\n",
    "    return 1/(rank[0] + 1) if len(rank) else 0"
   ],
   "metadata": {
    "collapsed": false,
    "pycharm": {
     "name": "#%%\n"
    }
   }
  },
  {
   "cell_type": "code",
   "execution_count": 22,
   "outputs": [
    {
     "data": {
      "text/plain": "0.3333333333333333"
     },
     "execution_count": 22,
     "metadata": {},
     "output_type": "execute_result"
    }
   ],
   "source": [
    "reciprocal_rank(recommended_list, bought_list)"
   ],
   "metadata": {
    "collapsed": false,
    "pycharm": {
     "name": "#%%\n"
    }
   }
  },
  {
   "cell_type": "code",
   "execution_count": 23,
   "outputs": [
    {
     "data": {
      "text/plain": "0.5"
     },
     "execution_count": 23,
     "metadata": {},
     "output_type": "execute_result"
    }
   ],
   "source": [
    "bought_list = [521, 991, 32, 143]\n",
    "reciprocal_rank(recommended_list, bought_list)"
   ],
   "metadata": {
    "collapsed": false,
    "pycharm": {
     "name": "#%%\n"
    }
   }
  },
  {
   "cell_type": "markdown",
   "source": [
    "\n",
    "\n"
   ],
   "metadata": {
    "collapsed": false
   }
  },
  {
   "cell_type": "markdown",
   "source": [
    "# 3. Связь бизнес-метрик, ML-метрик и функции потерь(loss)"
   ],
   "metadata": {
    "collapsed": false
   }
  },
  {
   "cell_type": "markdown",
   "source": [
    "- **loss** - то, что оптимизирует модель (RMSE - Root Mean Squared Error)\n",
    "- **ML-метрика** - то, как мы измеряем качество на test (money precision@5)\n",
    "- **Бизнес-метрика** - то, что хочет оптимизировать бизнес (выручка)\n",
    "\n",
    "В идеале loss = ML-метрика = бизнес-метрика, но это возмонжо в очень редких случаях\n",
    "\n",
    "Надеемся, что:\n",
    "    *Оптимизация loss --> рост ML-метрик --> рост бизнес-метрик*"
   ],
   "metadata": {
    "collapsed": false
   }
  },
  {
   "cell_type": "markdown",
   "source": [
    "### Пример: рекомендательная система товаров на сайте\n",
    "\n",
    "На сайте есть баннер, на котором мы можем разместить 5 товаров. Надо порекомендовать эти 5 товаров персонально каждому юзеру\n",
    "\n",
    "*Шаг 1: Определим бизнес-метрику*\n",
    "Бизнес хочет максимизировать выручку --> бизнес-метрика - **Выручка**\n",
    "\n",
    "*Шаг 2: Разложим ее на составляющие*\n",
    "Выручка =\n",
    "       Средний чек * кол-во покупок =\n",
    "       Средний чек * (число юзеров * конверсия из захода на сайт в заказ) =\n",
    "       Число юзеров * (Средний чек * конверсия из захода на сайт в заказ)\n",
    "\n",
    "Рекомендательная система влияет только на (Средний чек * конверсия из захода на сайт в заказ).\n",
    "Хорошим приближением этого является **money precision@5** - ML-метрика\n",
    "\n",
    "*Шаг 3: loss*\n",
    "Это существенно сложнее. Персонализированные ML-модели не умеют напрямую оптимизировать конверсию. Стандартный loss - **RMSE**. Можно для начала попробовать его.\n",
    "\n",
    "P.S. Если вы хотите приблизить RMSE к money precision@5, то можно посчитать weighted RMSE, где вес каждого наблюдения = стоимость товара.\n",
    "P.S.S. Про другие виды loss будет рассказано в курсе"
   ],
   "metadata": {
    "collapsed": false
   }
  }
 ],
 "metadata": {
  "kernelspec": {
   "display_name": "Python 3",
   "language": "python",
   "name": "python3"
  },
  "language_info": {
   "codemirror_mode": {
    "name": "ipython",
    "version": 2
   },
   "file_extension": ".py",
   "mimetype": "text/x-python",
   "name": "python",
   "nbconvert_exporter": "python",
   "pygments_lexer": "ipython2",
   "version": "2.7.6"
  }
 },
 "nbformat": 4,
 "nbformat_minor": 0
}