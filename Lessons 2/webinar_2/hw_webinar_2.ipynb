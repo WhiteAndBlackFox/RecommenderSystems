{
 "cells": [
  {
   "cell_type": "code",
   "execution_count": 1,
   "metadata": {
    "colab": {},
    "colab_type": "code",
    "id": "rgIzW-DSC8Yi"
   },
   "outputs": [],
   "source": [
    "import sys\n",
    "\n",
    "import pandas as pd\n",
    "import numpy as np\n",
    "%matplotlib inline\n",
    "\n",
    "# Для работы с матрицами\n",
    "from scipy.sparse import csr_matrix\n",
    "\n",
    "# Детерминированные алгоритмы\n",
    "from implicit.nearest_neighbours import ItemItemRecommender\n",
    "\n",
    "# Подключение сторонних скриптов\n",
    "sys.path.append('../')\n",
    "import metrics as m"
   ]
  },
  {
   "cell_type": "code",
   "execution_count": 2,
   "outputs": [],
   "source": [
    "def eval_item_item(df, knn = 5, n_th = 8):\n",
    "    for nn in knn:\n",
    "        model = ItemItemRecommender(K=nn, num_threads=n_th)  # K - кол-во ближайших соседей\n",
    "\n",
    "        model.fit(csr_matrix(user_item_matrix).T.tocsr(),  # На вход item-user matrix\n",
    "                  show_progress=True)\n",
    "\n",
    "        df[f'itemitem k-{nn}'] = df['user_id'].apply(lambda x:\n",
    "                                                     [id_to_item_id[rec[0]] for rec in\n",
    "                                                        model.recommend(userid=user_id_to_id[x],\n",
    "                                                                        user_items=sparse_user_item,\n",
    "                                                                        N=5,\n",
    "                                                                        filter_already_liked_items=True,\n",
    "                                                                        filter_items=None,\n",
    "                                                                        recalculate_user=True)])\n",
    "    return df"
   ],
   "metadata": {
    "collapsed": false,
    "pycharm": {
     "name": "#%%\n"
    }
   }
  },
  {
   "cell_type": "code",
   "execution_count": 3,
   "metadata": {
    "colab": {},
    "colab_type": "code",
    "id": "9qFkcgyrC8Yt",
    "outputId": "24a33bf1-942a-4b18-c54a-a7500c8f8712"
   },
   "outputs": [
    {
     "data": {
      "text/plain": "   user_id    basket_id  day  item_id  quantity  sales_value  store_id  \\\n0     2375  26984851472    1  1004906         1         1.39       364   \n1     2375  26984851472    1  1033142         1         0.82       364   \n2     2375  26984851472    1  1036325         1         0.99       364   \n3     2375  26984851472    1  1082185         1         1.21       364   \n4     2375  26984851472    1  8160430         1         1.50       364   \n\n   retail_disc  trans_time  week_no  coupon_disc  coupon_match_disc  \n0        -0.60        1631        1          0.0                0.0  \n1         0.00        1631        1          0.0                0.0  \n2        -0.30        1631        1          0.0                0.0  \n3         0.00        1631        1          0.0                0.0  \n4        -0.39        1631        1          0.0                0.0  ",
      "text/html": "<div>\n<style scoped>\n    .dataframe tbody tr th:only-of-type {\n        vertical-align: middle;\n    }\n\n    .dataframe tbody tr th {\n        vertical-align: top;\n    }\n\n    .dataframe thead th {\n        text-align: right;\n    }\n</style>\n<table border=\"1\" class=\"dataframe\">\n  <thead>\n    <tr style=\"text-align: right;\">\n      <th></th>\n      <th>user_id</th>\n      <th>basket_id</th>\n      <th>day</th>\n      <th>item_id</th>\n      <th>quantity</th>\n      <th>sales_value</th>\n      <th>store_id</th>\n      <th>retail_disc</th>\n      <th>trans_time</th>\n      <th>week_no</th>\n      <th>coupon_disc</th>\n      <th>coupon_match_disc</th>\n    </tr>\n  </thead>\n  <tbody>\n    <tr>\n      <th>0</th>\n      <td>2375</td>\n      <td>26984851472</td>\n      <td>1</td>\n      <td>1004906</td>\n      <td>1</td>\n      <td>1.39</td>\n      <td>364</td>\n      <td>-0.60</td>\n      <td>1631</td>\n      <td>1</td>\n      <td>0.0</td>\n      <td>0.0</td>\n    </tr>\n    <tr>\n      <th>1</th>\n      <td>2375</td>\n      <td>26984851472</td>\n      <td>1</td>\n      <td>1033142</td>\n      <td>1</td>\n      <td>0.82</td>\n      <td>364</td>\n      <td>0.00</td>\n      <td>1631</td>\n      <td>1</td>\n      <td>0.0</td>\n      <td>0.0</td>\n    </tr>\n    <tr>\n      <th>2</th>\n      <td>2375</td>\n      <td>26984851472</td>\n      <td>1</td>\n      <td>1036325</td>\n      <td>1</td>\n      <td>0.99</td>\n      <td>364</td>\n      <td>-0.30</td>\n      <td>1631</td>\n      <td>1</td>\n      <td>0.0</td>\n      <td>0.0</td>\n    </tr>\n    <tr>\n      <th>3</th>\n      <td>2375</td>\n      <td>26984851472</td>\n      <td>1</td>\n      <td>1082185</td>\n      <td>1</td>\n      <td>1.21</td>\n      <td>364</td>\n      <td>0.00</td>\n      <td>1631</td>\n      <td>1</td>\n      <td>0.0</td>\n      <td>0.0</td>\n    </tr>\n    <tr>\n      <th>4</th>\n      <td>2375</td>\n      <td>26984851472</td>\n      <td>1</td>\n      <td>8160430</td>\n      <td>1</td>\n      <td>1.50</td>\n      <td>364</td>\n      <td>-0.39</td>\n      <td>1631</td>\n      <td>1</td>\n      <td>0.0</td>\n      <td>0.0</td>\n    </tr>\n  </tbody>\n</table>\n</div>"
     },
     "execution_count": 3,
     "metadata": {},
     "output_type": "execute_result"
    }
   ],
   "source": [
    "data = pd.read_csv('../data/retail_train.csv')\n",
    "data.head()"
   ]
  },
  {
   "cell_type": "code",
   "execution_count": 4,
   "outputs": [
    {
     "data": {
      "text/plain": "   user_id                                             actual  \\\n0        1  [  821867   834484   856942   865456   889248 ...   \n1        3  [  835476   851057   872021   878302   879948 ...   \n2        6  [  920308   926804   946489  1006718  1017061 ...   \n3        7  [  840386   889774   898068   909714   929067 ...   \n4        8  [  835098   872137   910439   924610   992977 ...   \n\n                          random_recommendation  \\\n0  [5586238, 1015228, 866118, 2416733, 2603573]   \n1    [161354, 63027, 1027802, 12263694, 307395]   \n2  [13416054, 936084, 7410040, 9527114, 377218]   \n3     [5574336, 990072, 868548, 995880, 842226]   \n4    [1277401, 94446, 3133282, 1925252, 855699]   \n\n                          popular_recommendation  \\\n0  [6534178, 6533889, 1029743, 6534166, 1082185]   \n1  [6534178, 6533889, 1029743, 6534166, 1082185]   \n2  [6534178, 6533889, 1029743, 6534166, 1082185]   \n3  [6534178, 6533889, 1029743, 6534166, 1082185]   \n4  [6534178, 6533889, 1029743, 6534166, 1082185]   \n\n                                           itemitem  \\\n0        [981760, 1127831, 1098066, 826249, 878996]   \n1         [981760, 995242, 1029743, 840361, 961554]   \n2       [1098066, 826249, 1106523, 923746, 1058997]   \n3         [981760, 1098066, 840361, 883404, 916122]   \n4  [904360, 13115903, 13189726, 13190294, 15596515]   \n\n                                        cosine  \\\n0   [981760, 1127831, 1098066, 878996, 826249]   \n1  [981760, 1004906, 961554, 1096036, 1080414]   \n2   [1098066, 826249, 860776, 854852, 1068719]   \n3   [981760, 1098066, 883404, 1004906, 859075]   \n4  [904360, 5588666, 1096036, 979707, 1013321]   \n\n                                         tfidf  \\\n0   [981760, 1127831, 1098066, 826249, 878996]   \n1   [981760, 1004906, 859075, 1096036, 961554]   \n2   [1098066, 826249, 860776, 1068719, 916122]   \n3    [981760, 883404, 1098066, 859075, 916122]   \n4  [904360, 1096036, 5588666, 979707, 1013321]   \n\n                                  own_purchases  \n0   [999999, 1082185, 1029743, 995785, 1004906]  \n1  [999999, 1082185, 1098066, 6534178, 1127831]  \n2  [999999, 1082185, 1029743, 6534178, 1127831]  \n3   [999999, 1082185, 1029743, 1127831, 995785]  \n4  [999999, 1082185, 1029743, 1098066, 6534178]  ",
      "text/html": "<div>\n<style scoped>\n    .dataframe tbody tr th:only-of-type {\n        vertical-align: middle;\n    }\n\n    .dataframe tbody tr th {\n        vertical-align: top;\n    }\n\n    .dataframe thead th {\n        text-align: right;\n    }\n</style>\n<table border=\"1\" class=\"dataframe\">\n  <thead>\n    <tr style=\"text-align: right;\">\n      <th></th>\n      <th>user_id</th>\n      <th>actual</th>\n      <th>random_recommendation</th>\n      <th>popular_recommendation</th>\n      <th>itemitem</th>\n      <th>cosine</th>\n      <th>tfidf</th>\n      <th>own_purchases</th>\n    </tr>\n  </thead>\n  <tbody>\n    <tr>\n      <th>0</th>\n      <td>1</td>\n      <td>[  821867   834484   856942   865456   889248 ...</td>\n      <td>[5586238, 1015228, 866118, 2416733, 2603573]</td>\n      <td>[6534178, 6533889, 1029743, 6534166, 1082185]</td>\n      <td>[981760, 1127831, 1098066, 826249, 878996]</td>\n      <td>[981760, 1127831, 1098066, 878996, 826249]</td>\n      <td>[981760, 1127831, 1098066, 826249, 878996]</td>\n      <td>[999999, 1082185, 1029743, 995785, 1004906]</td>\n    </tr>\n    <tr>\n      <th>1</th>\n      <td>3</td>\n      <td>[  835476   851057   872021   878302   879948 ...</td>\n      <td>[161354, 63027, 1027802, 12263694, 307395]</td>\n      <td>[6534178, 6533889, 1029743, 6534166, 1082185]</td>\n      <td>[981760, 995242, 1029743, 840361, 961554]</td>\n      <td>[981760, 1004906, 961554, 1096036, 1080414]</td>\n      <td>[981760, 1004906, 859075, 1096036, 961554]</td>\n      <td>[999999, 1082185, 1098066, 6534178, 1127831]</td>\n    </tr>\n    <tr>\n      <th>2</th>\n      <td>6</td>\n      <td>[  920308   926804   946489  1006718  1017061 ...</td>\n      <td>[13416054, 936084, 7410040, 9527114, 377218]</td>\n      <td>[6534178, 6533889, 1029743, 6534166, 1082185]</td>\n      <td>[1098066, 826249, 1106523, 923746, 1058997]</td>\n      <td>[1098066, 826249, 860776, 854852, 1068719]</td>\n      <td>[1098066, 826249, 860776, 1068719, 916122]</td>\n      <td>[999999, 1082185, 1029743, 6534178, 1127831]</td>\n    </tr>\n    <tr>\n      <th>3</th>\n      <td>7</td>\n      <td>[  840386   889774   898068   909714   929067 ...</td>\n      <td>[5574336, 990072, 868548, 995880, 842226]</td>\n      <td>[6534178, 6533889, 1029743, 6534166, 1082185]</td>\n      <td>[981760, 1098066, 840361, 883404, 916122]</td>\n      <td>[981760, 1098066, 883404, 1004906, 859075]</td>\n      <td>[981760, 883404, 1098066, 859075, 916122]</td>\n      <td>[999999, 1082185, 1029743, 1127831, 995785]</td>\n    </tr>\n    <tr>\n      <th>4</th>\n      <td>8</td>\n      <td>[  835098   872137   910439   924610   992977 ...</td>\n      <td>[1277401, 94446, 3133282, 1925252, 855699]</td>\n      <td>[6534178, 6533889, 1029743, 6534166, 1082185]</td>\n      <td>[904360, 13115903, 13189726, 13190294, 15596515]</td>\n      <td>[904360, 5588666, 1096036, 979707, 1013321]</td>\n      <td>[904360, 1096036, 5588666, 979707, 1013321]</td>\n      <td>[999999, 1082185, 1029743, 1098066, 6534178]</td>\n    </tr>\n  </tbody>\n</table>\n</div>"
     },
     "execution_count": 4,
     "metadata": {},
     "output_type": "execute_result"
    }
   ],
   "source": [
    "result = pd.read_csv('predictions_basic.csv')\n",
    "result.head()"
   ],
   "metadata": {
    "collapsed": false,
    "pycharm": {
     "name": "#%%\n"
    }
   }
  },
  {
   "cell_type": "code",
   "execution_count": 5,
   "metadata": {
    "colab": {},
    "colab_type": "code",
    "id": "epcBZlgJC8Y0"
   },
   "outputs": [],
   "source": [
    "test_size_weeks = 3\n",
    "\n",
    "data_train = data[data['week_no'] < data['week_no'].max() - test_size_weeks]\n",
    "data_test = data[data['week_no'] >= data['week_no'].max() - test_size_weeks]"
   ]
  },
  {
   "cell_type": "markdown",
   "metadata": {
    "colab_type": "text",
    "id": "zlUUzLFeC8Y4"
   },
   "source": [
    "### Задание 1. Weighted Random Recommendation\n",
    "\n",
    "Напишите код для случайных рекоммендаций, в которых вероятность рекомендовать товар прямо пропорциональна логарифму продаж\n",
    "- Можно сэмплировать товары случайно, но пропорционально какому-либо весу\n",
    "- Например, прямопропорционально популярности. Вес = log(sales_sum товара)"
   ]
  },
  {
   "cell_type": "code",
   "execution_count": 6,
   "metadata": {
    "colab": {},
    "colab_type": "code",
    "id": "brMuCHolC8Y4"
   },
   "outputs": [],
   "source": [
    "def weighted_random_recommendation(items_weights, n=5):\n",
    "    \"\"\"Случайные рекоммендации\n",
    "    \n",
    "    Input\n",
    "    -----\n",
    "    items_weights: pd.DataFrame\n",
    "        Датафрейм со столбцами item_id, weight. Сумма weight по всем товарам = 1\n",
    "    \"\"\"\n",
    "    \n",
    "    # Подсказка: необходимо модифицировать функцию random_recommendation()\n",
    "    recs = np.random.choice(items_weights['item_id'].values, size=n, replace=False, p=items_weights['weight'].values)\n",
    "\n",
    "    return recs.tolist()"
   ]
  },
  {
   "cell_type": "code",
   "execution_count": 7,
   "metadata": {
    "colab": {},
    "colab_type": "code",
    "id": "nK_AS3tmC8Y7"
   },
   "outputs": [
    {
     "name": "stdout",
     "output_type": "stream",
     "text": [
      "Wall time: 2.56 s\n"
     ]
    }
   ],
   "source": [
    "%%time\n",
    "items_weights = data_train.groupby('item_id')['sales_value'].sum().reset_index()\n",
    "items_weights = items_weights[items_weights['sales_value'] > 1]\n",
    "items_weights['weight']= np.log(items_weights['sales_value'] + 0.001)\n",
    "items_weights['weight'] = items_weights['weight'] / items_weights['weight'].sum()\n",
    "items_weights.drop('sales_value', axis = 1, inplace = True)\n",
    "\n",
    "result['wrr'] = result['user_id'].apply(lambda x: weighted_random_recommendation(items_weights, n=5))"
   ]
  },
  {
   "cell_type": "code",
   "execution_count": 8,
   "outputs": [
    {
     "data": {
      "text/plain": "   user_id                                             actual  \\\n0        1  [  821867   834484   856942   865456   889248 ...   \n1        3  [  835476   851057   872021   878302   879948 ...   \n\n                          random_recommendation  \\\n0  [5586238, 1015228, 866118, 2416733, 2603573]   \n1    [161354, 63027, 1027802, 12263694, 307395]   \n\n                          popular_recommendation  \\\n0  [6534178, 6533889, 1029743, 6534166, 1082185]   \n1  [6534178, 6533889, 1029743, 6534166, 1082185]   \n\n                                     itemitem  \\\n0  [981760, 1127831, 1098066, 826249, 878996]   \n1   [981760, 995242, 1029743, 840361, 961554]   \n\n                                        cosine  \\\n0   [981760, 1127831, 1098066, 878996, 826249]   \n1  [981760, 1004906, 961554, 1096036, 1080414]   \n\n                                        tfidf  \\\n0  [981760, 1127831, 1098066, 826249, 878996]   \n1  [981760, 1004906, 859075, 1096036, 961554]   \n\n                                  own_purchases  \\\n0   [999999, 1082185, 1029743, 995785, 1004906]   \n1  [999999, 1082185, 1098066, 6534178, 1127831]   \n\n                                               wrr  \n0      [12599639, 946881, 909052, 8358386, 915190]  \n1  [15778522, 1179810, 1105615, 12267981, 8019419]  ",
      "text/html": "<div>\n<style scoped>\n    .dataframe tbody tr th:only-of-type {\n        vertical-align: middle;\n    }\n\n    .dataframe tbody tr th {\n        vertical-align: top;\n    }\n\n    .dataframe thead th {\n        text-align: right;\n    }\n</style>\n<table border=\"1\" class=\"dataframe\">\n  <thead>\n    <tr style=\"text-align: right;\">\n      <th></th>\n      <th>user_id</th>\n      <th>actual</th>\n      <th>random_recommendation</th>\n      <th>popular_recommendation</th>\n      <th>itemitem</th>\n      <th>cosine</th>\n      <th>tfidf</th>\n      <th>own_purchases</th>\n      <th>wrr</th>\n    </tr>\n  </thead>\n  <tbody>\n    <tr>\n      <th>0</th>\n      <td>1</td>\n      <td>[  821867   834484   856942   865456   889248 ...</td>\n      <td>[5586238, 1015228, 866118, 2416733, 2603573]</td>\n      <td>[6534178, 6533889, 1029743, 6534166, 1082185]</td>\n      <td>[981760, 1127831, 1098066, 826249, 878996]</td>\n      <td>[981760, 1127831, 1098066, 878996, 826249]</td>\n      <td>[981760, 1127831, 1098066, 826249, 878996]</td>\n      <td>[999999, 1082185, 1029743, 995785, 1004906]</td>\n      <td>[12599639, 946881, 909052, 8358386, 915190]</td>\n    </tr>\n    <tr>\n      <th>1</th>\n      <td>3</td>\n      <td>[  835476   851057   872021   878302   879948 ...</td>\n      <td>[161354, 63027, 1027802, 12263694, 307395]</td>\n      <td>[6534178, 6533889, 1029743, 6534166, 1082185]</td>\n      <td>[981760, 995242, 1029743, 840361, 961554]</td>\n      <td>[981760, 1004906, 961554, 1096036, 1080414]</td>\n      <td>[981760, 1004906, 859075, 1096036, 961554]</td>\n      <td>[999999, 1082185, 1098066, 6534178, 1127831]</td>\n      <td>[15778522, 1179810, 1105615, 12267981, 8019419]</td>\n    </tr>\n  </tbody>\n</table>\n</div>"
     },
     "execution_count": 8,
     "metadata": {},
     "output_type": "execute_result"
    }
   ],
   "source": [
    "result.head(2)\n"
   ],
   "metadata": {
    "collapsed": false,
    "pycharm": {
     "name": "#%%\n"
    }
   }
  },
  {
   "cell_type": "markdown",
   "metadata": {
    "colab_type": "text",
    "id": "hyNG6O-wC8Y_"
   },
   "source": [
    "### Задание 2. Расчет метрик\n",
    "Рассчитайте Precision@5 для каждого алгоритма с помощью функции из вебинара 1. Какой алгоритм показывает лучшее качество?"
   ]
  },
  {
   "cell_type": "code",
   "execution_count": 9,
   "metadata": {
    "colab": {},
    "colab_type": "code",
    "id": "36HtRgm8C8ZA",
    "outputId": "971ccba1-6f06-4ac8-fd2d-10ba527e0fe5"
   },
   "outputs": [],
   "source": [
    "cols = result.columns\n",
    "for col in cols[2:]:\n",
    "    result[f'precision_{col}'] = result['user_id'].apply(lambda x: m.precision_at_k(result[col].values, result['actual'].values))"
   ]
  },
  {
   "cell_type": "code",
   "execution_count": 10,
   "outputs": [
    {
     "data": {
      "text/plain": "   user_id                                             actual  \\\n0        1  [  821867   834484   856942   865456   889248 ...   \n1        3  [  835476   851057   872021   878302   879948 ...   \n2        6  [  920308   926804   946489  1006718  1017061 ...   \n3        7  [  840386   889774   898068   909714   929067 ...   \n4        8  [  835098   872137   910439   924610   992977 ...   \n\n                          random_recommendation  \\\n0  [5586238, 1015228, 866118, 2416733, 2603573]   \n1    [161354, 63027, 1027802, 12263694, 307395]   \n2  [13416054, 936084, 7410040, 9527114, 377218]   \n3     [5574336, 990072, 868548, 995880, 842226]   \n4    [1277401, 94446, 3133282, 1925252, 855699]   \n\n                          popular_recommendation  \\\n0  [6534178, 6533889, 1029743, 6534166, 1082185]   \n1  [6534178, 6533889, 1029743, 6534166, 1082185]   \n2  [6534178, 6533889, 1029743, 6534166, 1082185]   \n3  [6534178, 6533889, 1029743, 6534166, 1082185]   \n4  [6534178, 6533889, 1029743, 6534166, 1082185]   \n\n                                           itemitem  \\\n0        [981760, 1127831, 1098066, 826249, 878996]   \n1         [981760, 995242, 1029743, 840361, 961554]   \n2       [1098066, 826249, 1106523, 923746, 1058997]   \n3         [981760, 1098066, 840361, 883404, 916122]   \n4  [904360, 13115903, 13189726, 13190294, 15596515]   \n\n                                        cosine  \\\n0   [981760, 1127831, 1098066, 878996, 826249]   \n1  [981760, 1004906, 961554, 1096036, 1080414]   \n2   [1098066, 826249, 860776, 854852, 1068719]   \n3   [981760, 1098066, 883404, 1004906, 859075]   \n4  [904360, 5588666, 1096036, 979707, 1013321]   \n\n                                         tfidf  \\\n0   [981760, 1127831, 1098066, 826249, 878996]   \n1   [981760, 1004906, 859075, 1096036, 961554]   \n2   [1098066, 826249, 860776, 1068719, 916122]   \n3    [981760, 883404, 1098066, 859075, 916122]   \n4  [904360, 1096036, 5588666, 979707, 1013321]   \n\n                                  own_purchases  \\\n0   [999999, 1082185, 1029743, 995785, 1004906]   \n1  [999999, 1082185, 1098066, 6534178, 1127831]   \n2  [999999, 1082185, 1029743, 6534178, 1127831]   \n3   [999999, 1082185, 1029743, 1127831, 995785]   \n4  [999999, 1082185, 1029743, 1098066, 6534178]   \n\n                                               wrr  \\\n0      [12599639, 946881, 909052, 8358386, 915190]   \n1  [15778522, 1179810, 1105615, 12267981, 8019419]   \n2   [13190074, 7168895, 984941, 2594916, 13909957]   \n3   [13672357, 7168205, 14111292, 6443310, 876043]   \n4  [10356148, 1083813, 10121619, 868075, 15927205]   \n\n   precision_random_recommendation  precision_popular_recommendation  \\\n0                              0.0                               0.0   \n1                              0.0                               0.0   \n2                              0.0                               0.0   \n3                              0.0                               0.0   \n4                              0.0                               0.0   \n\n   precision_itemitem  precision_cosine  precision_tfidf  \\\n0                 0.0               0.0              0.0   \n1                 0.0               0.0              0.0   \n2                 0.0               0.0              0.0   \n3                 0.0               0.0              0.0   \n4                 0.0               0.0              0.0   \n\n   precision_own_purchases  precision_wrr  \n0                      0.0            0.0  \n1                      0.0            0.0  \n2                      0.0            0.0  \n3                      0.0            0.0  \n4                      0.0            0.0  ",
      "text/html": "<div>\n<style scoped>\n    .dataframe tbody tr th:only-of-type {\n        vertical-align: middle;\n    }\n\n    .dataframe tbody tr th {\n        vertical-align: top;\n    }\n\n    .dataframe thead th {\n        text-align: right;\n    }\n</style>\n<table border=\"1\" class=\"dataframe\">\n  <thead>\n    <tr style=\"text-align: right;\">\n      <th></th>\n      <th>user_id</th>\n      <th>actual</th>\n      <th>random_recommendation</th>\n      <th>popular_recommendation</th>\n      <th>itemitem</th>\n      <th>cosine</th>\n      <th>tfidf</th>\n      <th>own_purchases</th>\n      <th>wrr</th>\n      <th>precision_random_recommendation</th>\n      <th>precision_popular_recommendation</th>\n      <th>precision_itemitem</th>\n      <th>precision_cosine</th>\n      <th>precision_tfidf</th>\n      <th>precision_own_purchases</th>\n      <th>precision_wrr</th>\n    </tr>\n  </thead>\n  <tbody>\n    <tr>\n      <th>0</th>\n      <td>1</td>\n      <td>[  821867   834484   856942   865456   889248 ...</td>\n      <td>[5586238, 1015228, 866118, 2416733, 2603573]</td>\n      <td>[6534178, 6533889, 1029743, 6534166, 1082185]</td>\n      <td>[981760, 1127831, 1098066, 826249, 878996]</td>\n      <td>[981760, 1127831, 1098066, 878996, 826249]</td>\n      <td>[981760, 1127831, 1098066, 826249, 878996]</td>\n      <td>[999999, 1082185, 1029743, 995785, 1004906]</td>\n      <td>[12599639, 946881, 909052, 8358386, 915190]</td>\n      <td>0.0</td>\n      <td>0.0</td>\n      <td>0.0</td>\n      <td>0.0</td>\n      <td>0.0</td>\n      <td>0.0</td>\n      <td>0.0</td>\n    </tr>\n    <tr>\n      <th>1</th>\n      <td>3</td>\n      <td>[  835476   851057   872021   878302   879948 ...</td>\n      <td>[161354, 63027, 1027802, 12263694, 307395]</td>\n      <td>[6534178, 6533889, 1029743, 6534166, 1082185]</td>\n      <td>[981760, 995242, 1029743, 840361, 961554]</td>\n      <td>[981760, 1004906, 961554, 1096036, 1080414]</td>\n      <td>[981760, 1004906, 859075, 1096036, 961554]</td>\n      <td>[999999, 1082185, 1098066, 6534178, 1127831]</td>\n      <td>[15778522, 1179810, 1105615, 12267981, 8019419]</td>\n      <td>0.0</td>\n      <td>0.0</td>\n      <td>0.0</td>\n      <td>0.0</td>\n      <td>0.0</td>\n      <td>0.0</td>\n      <td>0.0</td>\n    </tr>\n    <tr>\n      <th>2</th>\n      <td>6</td>\n      <td>[  920308   926804   946489  1006718  1017061 ...</td>\n      <td>[13416054, 936084, 7410040, 9527114, 377218]</td>\n      <td>[6534178, 6533889, 1029743, 6534166, 1082185]</td>\n      <td>[1098066, 826249, 1106523, 923746, 1058997]</td>\n      <td>[1098066, 826249, 860776, 854852, 1068719]</td>\n      <td>[1098066, 826249, 860776, 1068719, 916122]</td>\n      <td>[999999, 1082185, 1029743, 6534178, 1127831]</td>\n      <td>[13190074, 7168895, 984941, 2594916, 13909957]</td>\n      <td>0.0</td>\n      <td>0.0</td>\n      <td>0.0</td>\n      <td>0.0</td>\n      <td>0.0</td>\n      <td>0.0</td>\n      <td>0.0</td>\n    </tr>\n    <tr>\n      <th>3</th>\n      <td>7</td>\n      <td>[  840386   889774   898068   909714   929067 ...</td>\n      <td>[5574336, 990072, 868548, 995880, 842226]</td>\n      <td>[6534178, 6533889, 1029743, 6534166, 1082185]</td>\n      <td>[981760, 1098066, 840361, 883404, 916122]</td>\n      <td>[981760, 1098066, 883404, 1004906, 859075]</td>\n      <td>[981760, 883404, 1098066, 859075, 916122]</td>\n      <td>[999999, 1082185, 1029743, 1127831, 995785]</td>\n      <td>[13672357, 7168205, 14111292, 6443310, 876043]</td>\n      <td>0.0</td>\n      <td>0.0</td>\n      <td>0.0</td>\n      <td>0.0</td>\n      <td>0.0</td>\n      <td>0.0</td>\n      <td>0.0</td>\n    </tr>\n    <tr>\n      <th>4</th>\n      <td>8</td>\n      <td>[  835098   872137   910439   924610   992977 ...</td>\n      <td>[1277401, 94446, 3133282, 1925252, 855699]</td>\n      <td>[6534178, 6533889, 1029743, 6534166, 1082185]</td>\n      <td>[904360, 13115903, 13189726, 13190294, 15596515]</td>\n      <td>[904360, 5588666, 1096036, 979707, 1013321]</td>\n      <td>[904360, 1096036, 5588666, 979707, 1013321]</td>\n      <td>[999999, 1082185, 1029743, 1098066, 6534178]</td>\n      <td>[10356148, 1083813, 10121619, 868075, 15927205]</td>\n      <td>0.0</td>\n      <td>0.0</td>\n      <td>0.0</td>\n      <td>0.0</td>\n      <td>0.0</td>\n      <td>0.0</td>\n      <td>0.0</td>\n    </tr>\n  </tbody>\n</table>\n</div>"
     },
     "execution_count": 10,
     "metadata": {},
     "output_type": "execute_result"
    }
   ],
   "source": [
    "result.head()"
   ],
   "metadata": {
    "collapsed": false,
    "pycharm": {
     "name": "#%%\n"
    }
   }
  },
  {
   "cell_type": "markdown",
   "metadata": {
    "colab_type": "text",
    "id": "igDU0j1cC8ZH"
   },
   "source": [
    "### Задание 3*. Улучшение бейзлайнов и ItemItem\n",
    "\n",
    "- Попробуйте улучшить бейзлайны, считая их на топ-5000 товаров\n",
    "- Попробуйте улучшить разные варианты ItemItemRecommender, выбирая число соседей $K$."
   ]
  },
  {
   "cell_type": "code",
   "execution_count": 11,
   "metadata": {
    "colab": {},
    "colab_type": "code",
    "id": "zYBR3cMPC8ZH"
   },
   "outputs": [],
   "source": [
    "popularity = data_train.groupby('item_id')['quantity'].sum().reset_index()\n",
    "popularity.rename(columns={'quantity': 'n_sold'}, inplace = True)\n",
    "top_5000 = popularity.sort_values('n_sold', ascending = False).head(5000).item_id.tolist()\n",
    "\n",
    "# top_5000"
   ]
  },
  {
   "cell_type": "code",
   "execution_count": 12,
   "outputs": [
    {
     "name": "stderr",
     "output_type": "stream",
     "text": [
      "c:\\users\\vlad\\appdata\\local\\programs\\python\\python37-32\\lib\\site-packages\\pandas\\core\\indexing.py:543: SettingWithCopyWarning: \n",
      "A value is trying to be set on a copy of a slice from a DataFrame.\n",
      "Try using .loc[row_indexer,col_indexer] = value instead\n",
      "\n",
      "See the caveats in the documentation: http://pandas.pydata.org/pandas-docs/stable/indexing.html#indexing-view-versus-copy\n",
      "  self.obj[item] = s\n"
     ]
    },
    {
     "data": {
      "text/plain": "item_id  202291    397896    420647    480014    545926    707683    731106    \\\nuser_id                                                                         \n1             0.0       0.0       0.0       0.0       0.0       0.0       0.0   \n2             0.0       0.0       0.0       0.0       0.0       0.0       0.0   \n3             0.0       0.0       0.0       0.0       0.0       0.0       0.0   \n4             0.0       0.0       0.0       0.0       0.0       0.0       0.0   \n5             0.0       0.0       0.0       0.0       0.0       0.0       0.0   \n\nitem_id  818980    819063    819227    ...  15831255  15926712  15926775  \\\nuser_id                                ...                                 \n1             0.0       0.0       0.0  ...       0.0       0.0       0.0   \n2             0.0       0.0       0.0  ...       0.0       0.0       0.0   \n3             0.0       0.0       0.0  ...       0.0       0.0       0.0   \n4             0.0       0.0       0.0  ...       0.0       0.0       0.0   \n5             0.0       0.0       0.0  ...       0.0       0.0       0.0   \n\nitem_id  15926844  15926886  15927403  15927661  15927850  16809471  99999999  \nuser_id                                                                        \n1             1.0       0.0       0.0       0.0       0.0       0.0       1.0  \n2             0.0       0.0       0.0       0.0       0.0       0.0       1.0  \n3             0.0       0.0       0.0       0.0       0.0       0.0       1.0  \n4             0.0       0.0       0.0       0.0       0.0       0.0       1.0  \n5             0.0       0.0       0.0       0.0       0.0       0.0       1.0  \n\n[5 rows x 5001 columns]",
      "text/html": "<div>\n<style scoped>\n    .dataframe tbody tr th:only-of-type {\n        vertical-align: middle;\n    }\n\n    .dataframe tbody tr th {\n        vertical-align: top;\n    }\n\n    .dataframe thead th {\n        text-align: right;\n    }\n</style>\n<table border=\"1\" class=\"dataframe\">\n  <thead>\n    <tr style=\"text-align: right;\">\n      <th>item_id</th>\n      <th>202291</th>\n      <th>397896</th>\n      <th>420647</th>\n      <th>480014</th>\n      <th>545926</th>\n      <th>707683</th>\n      <th>731106</th>\n      <th>818980</th>\n      <th>819063</th>\n      <th>819227</th>\n      <th>...</th>\n      <th>15831255</th>\n      <th>15926712</th>\n      <th>15926775</th>\n      <th>15926844</th>\n      <th>15926886</th>\n      <th>15927403</th>\n      <th>15927661</th>\n      <th>15927850</th>\n      <th>16809471</th>\n      <th>99999999</th>\n    </tr>\n    <tr>\n      <th>user_id</th>\n      <th></th>\n      <th></th>\n      <th></th>\n      <th></th>\n      <th></th>\n      <th></th>\n      <th></th>\n      <th></th>\n      <th></th>\n      <th></th>\n      <th></th>\n      <th></th>\n      <th></th>\n      <th></th>\n      <th></th>\n      <th></th>\n      <th></th>\n      <th></th>\n      <th></th>\n      <th></th>\n      <th></th>\n    </tr>\n  </thead>\n  <tbody>\n    <tr>\n      <th>1</th>\n      <td>0.0</td>\n      <td>0.0</td>\n      <td>0.0</td>\n      <td>0.0</td>\n      <td>0.0</td>\n      <td>0.0</td>\n      <td>0.0</td>\n      <td>0.0</td>\n      <td>0.0</td>\n      <td>0.0</td>\n      <td>...</td>\n      <td>0.0</td>\n      <td>0.0</td>\n      <td>0.0</td>\n      <td>1.0</td>\n      <td>0.0</td>\n      <td>0.0</td>\n      <td>0.0</td>\n      <td>0.0</td>\n      <td>0.0</td>\n      <td>1.0</td>\n    </tr>\n    <tr>\n      <th>2</th>\n      <td>0.0</td>\n      <td>0.0</td>\n      <td>0.0</td>\n      <td>0.0</td>\n      <td>0.0</td>\n      <td>0.0</td>\n      <td>0.0</td>\n      <td>0.0</td>\n      <td>0.0</td>\n      <td>0.0</td>\n      <td>...</td>\n      <td>0.0</td>\n      <td>0.0</td>\n      <td>0.0</td>\n      <td>0.0</td>\n      <td>0.0</td>\n      <td>0.0</td>\n      <td>0.0</td>\n      <td>0.0</td>\n      <td>0.0</td>\n      <td>1.0</td>\n    </tr>\n    <tr>\n      <th>3</th>\n      <td>0.0</td>\n      <td>0.0</td>\n      <td>0.0</td>\n      <td>0.0</td>\n      <td>0.0</td>\n      <td>0.0</td>\n      <td>0.0</td>\n      <td>0.0</td>\n      <td>0.0</td>\n      <td>0.0</td>\n      <td>...</td>\n      <td>0.0</td>\n      <td>0.0</td>\n      <td>0.0</td>\n      <td>0.0</td>\n      <td>0.0</td>\n      <td>0.0</td>\n      <td>0.0</td>\n      <td>0.0</td>\n      <td>0.0</td>\n      <td>1.0</td>\n    </tr>\n    <tr>\n      <th>4</th>\n      <td>0.0</td>\n      <td>0.0</td>\n      <td>0.0</td>\n      <td>0.0</td>\n      <td>0.0</td>\n      <td>0.0</td>\n      <td>0.0</td>\n      <td>0.0</td>\n      <td>0.0</td>\n      <td>0.0</td>\n      <td>...</td>\n      <td>0.0</td>\n      <td>0.0</td>\n      <td>0.0</td>\n      <td>0.0</td>\n      <td>0.0</td>\n      <td>0.0</td>\n      <td>0.0</td>\n      <td>0.0</td>\n      <td>0.0</td>\n      <td>1.0</td>\n    </tr>\n    <tr>\n      <th>5</th>\n      <td>0.0</td>\n      <td>0.0</td>\n      <td>0.0</td>\n      <td>0.0</td>\n      <td>0.0</td>\n      <td>0.0</td>\n      <td>0.0</td>\n      <td>0.0</td>\n      <td>0.0</td>\n      <td>0.0</td>\n      <td>...</td>\n      <td>0.0</td>\n      <td>0.0</td>\n      <td>0.0</td>\n      <td>0.0</td>\n      <td>0.0</td>\n      <td>0.0</td>\n      <td>0.0</td>\n      <td>0.0</td>\n      <td>0.0</td>\n      <td>1.0</td>\n    </tr>\n  </tbody>\n</table>\n<p>5 rows × 5001 columns</p>\n</div>"
     },
     "execution_count": 12,
     "metadata": {},
     "output_type": "execute_result"
    }
   ],
   "source": [
    "data_train.item_id.max()\n",
    "# максимальное значение в id 17829232\n",
    "\n",
    "data_train.loc[~data_train['item_id'].isin(top_5000), 'item_id'] = 99999999\n",
    "\n",
    "user_item_matrix = pd.pivot_table(data_train,\n",
    "                                  index = 'user_id',\n",
    "                                  columns = 'item_id',\n",
    "                                  values = 'quantity',\n",
    "                                  aggfunc = 'count',\n",
    "                                  fill_value = 0)\n",
    "\n",
    "user_item_matrix[user_item_matrix > 0] = 1\n",
    "user_item_matrix = user_item_matrix.astype(float)\n",
    "\n",
    "sparse_user_item = csr_matrix(user_item_matrix).tocsr()\n",
    "\n",
    "user_item_matrix.head()"
   ],
   "metadata": {
    "collapsed": false,
    "pycharm": {
     "name": "#%%\n"
    }
   }
  },
  {
   "cell_type": "code",
   "execution_count": 13,
   "outputs": [],
   "source": [
    "user_id = user_item_matrix.index.values\n",
    "items_id = user_item_matrix.columns.values\n",
    "\n",
    "matrix_user_id = np.arange(len(user_id))\n",
    "matrix_items_id = np.arange(len(items_id))\n",
    "\n",
    "id_to_user_id = dict(zip(matrix_user_id, user_id))\n",
    "id_to_item_id = dict(zip(matrix_items_id, items_id))\n",
    "\n",
    "item_id_to_id = dict(zip(items_id, matrix_items_id))\n",
    "user_id_to_id = dict(zip(user_id, matrix_user_id))"
   ],
   "metadata": {
    "collapsed": false,
    "pycharm": {
     "name": "#%%\n"
    }
   }
  },
  {
   "cell_type": "code",
   "execution_count": 14,
   "outputs": [],
   "source": [
    "item_item_df = result.copy().drop(result.columns[2:], axis=1)\n",
    "k_neighb = np.arange(1, 11, 1)"
   ],
   "metadata": {
    "collapsed": false,
    "pycharm": {
     "name": "#%%\n"
    }
   }
  },
  {
   "cell_type": "code",
   "execution_count": 15,
   "outputs": [
    {
     "data": {
      "text/plain": "HBox(children=(HTML(value=''), FloatProgress(value=0.0, max=5001.0), HTML(value='')))",
      "application/vnd.jupyter.widget-view+json": {
       "version_major": 2,
       "version_minor": 0,
       "model_id": "6e6fe8f05b9d4a06b0ec6013531283dc"
      }
     },
     "metadata": {},
     "output_type": "display_data"
    },
    {
     "name": "stdout",
     "output_type": "stream",
     "text": [
      "\n",
      "\n",
      "\n",
      "\n",
      "\n",
      "\n",
      "\n",
      "\n",
      "\n",
      "\n",
      "Wall time: 6.58 s\n"
     ]
    },
    {
     "data": {
      "text/plain": "HBox(children=(HTML(value=''), FloatProgress(value=0.0, max=5001.0), HTML(value='')))",
      "application/vnd.jupyter.widget-view+json": {
       "version_major": 2,
       "version_minor": 0,
       "model_id": "2324add6b9f24716b90b9fd3ba51c81a"
      }
     },
     "metadata": {},
     "output_type": "display_data"
    },
    {
     "data": {
      "text/plain": "HBox(children=(HTML(value=''), FloatProgress(value=0.0, max=5001.0), HTML(value='')))",
      "application/vnd.jupyter.widget-view+json": {
       "version_major": 2,
       "version_minor": 0,
       "model_id": "f08cc4ab62e049f590a3964a4141160b"
      }
     },
     "metadata": {},
     "output_type": "display_data"
    },
    {
     "data": {
      "text/plain": "HBox(children=(HTML(value=''), FloatProgress(value=0.0, max=5001.0), HTML(value='')))",
      "application/vnd.jupyter.widget-view+json": {
       "version_major": 2,
       "version_minor": 0,
       "model_id": "c52863625d33494fa13486a7aff1079b"
      }
     },
     "metadata": {},
     "output_type": "display_data"
    },
    {
     "data": {
      "text/plain": "HBox(children=(HTML(value=''), FloatProgress(value=0.0, max=5001.0), HTML(value='')))",
      "application/vnd.jupyter.widget-view+json": {
       "version_major": 2,
       "version_minor": 0,
       "model_id": "a1fa15a3b7404245a7c9f706f47f1837"
      }
     },
     "metadata": {},
     "output_type": "display_data"
    },
    {
     "data": {
      "text/plain": "HBox(children=(HTML(value=''), FloatProgress(value=0.0, max=5001.0), HTML(value='')))",
      "application/vnd.jupyter.widget-view+json": {
       "version_major": 2,
       "version_minor": 0,
       "model_id": "697878bdd3dd4880bf1e4ce1ca43e7b6"
      }
     },
     "metadata": {},
     "output_type": "display_data"
    },
    {
     "data": {
      "text/plain": "HBox(children=(HTML(value=''), FloatProgress(value=0.0, max=5001.0), HTML(value='')))",
      "application/vnd.jupyter.widget-view+json": {
       "version_major": 2,
       "version_minor": 0,
       "model_id": "0f525a1b037b4b8986359105a2b5c012"
      }
     },
     "metadata": {},
     "output_type": "display_data"
    },
    {
     "data": {
      "text/plain": "HBox(children=(HTML(value=''), FloatProgress(value=0.0, max=5001.0), HTML(value='')))",
      "application/vnd.jupyter.widget-view+json": {
       "version_major": 2,
       "version_minor": 0,
       "model_id": "8a57c5138f554504b076f4b686a54479"
      }
     },
     "metadata": {},
     "output_type": "display_data"
    },
    {
     "data": {
      "text/plain": "HBox(children=(HTML(value=''), FloatProgress(value=0.0, max=5001.0), HTML(value='')))",
      "application/vnd.jupyter.widget-view+json": {
       "version_major": 2,
       "version_minor": 0,
       "model_id": "e4811587eaf0446abbeb2ac05de2aace"
      }
     },
     "metadata": {},
     "output_type": "display_data"
    },
    {
     "data": {
      "text/plain": "HBox(children=(HTML(value=''), FloatProgress(value=0.0, max=5001.0), HTML(value='')))",
      "application/vnd.jupyter.widget-view+json": {
       "version_major": 2,
       "version_minor": 0,
       "model_id": "746456e8c53f4a27a919786c3a797347"
      }
     },
     "metadata": {},
     "output_type": "display_data"
    }
   ],
   "source": [
    "%%time\n",
    "\n",
    "item_item_res = eval_item_item(item_item_df, k_neighb)"
   ],
   "metadata": {
    "collapsed": false,
    "pycharm": {
     "name": "#%%\n"
    }
   }
  },
  {
   "cell_type": "code",
   "execution_count": 16,
   "outputs": [
    {
     "data": {
      "text/plain": "   user_id                                             actual  \\\n0        1  [  821867   834484   856942   865456   889248 ...   \n1        3  [  835476   851057   872021   878302   879948 ...   \n2        6  [  920308   926804   946489  1006718  1017061 ...   \n3        7  [  840386   889774   898068   909714   929067 ...   \n4        8  [  835098   872137   910439   924610   992977 ...   \n\n                                   itemitem k-1  \\\n0  [866227, 995785, 1029743, 1110764, 99999999]   \n1                  [1023958, 8205731, 99999999]   \n2   [942525, 995785, 1034176, 1046262, 1029743]   \n3          [995785, 1046262, 1029743, 99999999]   \n4   [935393, 995785, 1034176, 1046262, 1029743]   \n\n                                        itemitem k-2  \\\n0  [10455984, 12172240, 12810393, 15926844, 12324...   \n1  [12810393, 13416351, 13945244, 15596279, 13842...   \n2  [12731436, 12731544, 13511722, 15926712, 13003...   \n3  [12384775, 12731436, 13511722, 15511891, 12810...   \n4  [12810393, 13115903, 13190294, 15596515, 13189...   \n\n                                        itemitem k-3  \\\n0    [981760, 6534178, 12324948, 15926844, 12810393]   \n1   [981760, 13416351, 13842214, 13945244, 15596279]   \n2  [12731436, 12731544, 13511722, 15926712, 13003...   \n3   [981760, 12731436, 12810393, 13511722, 15511891]   \n4  [12810393, 13115903, 13190294, 15596515, 13189...   \n\n                                       itemitem k-4  \\\n0        [981760, 1127831, 1098066, 854852, 866211]   \n1          [981760, 995242, 908531, 840361, 961554]   \n2       [1058997, 1098066, 916122, 860776, 1005186]   \n3         [981760, 1098066, 883404, 916122, 840361]   \n4  [904360, 13115903, 13189726, 13190294, 15596515]   \n\n                                       itemitem k-5  \\\n0        [981760, 1127831, 1098066, 826249, 878996]   \n1         [981760, 995242, 1029743, 840361, 961554]   \n2       [1098066, 826249, 1106523, 923746, 1058997]   \n3         [981760, 1098066, 840361, 883404, 916122]   \n4  [904360, 13115903, 13189726, 13190294, 15596515]   \n\n                                   itemitem k-6  \\\n0    [981760, 1127831, 1098066, 826249, 878996]   \n1    [981760, 995242, 840361, 1029743, 1004906]   \n2    [1098066, 826249, 854852, 1106523, 923746]   \n3    [981760, 1098066, 840361, 883404, 6534178]   \n4  [904360, 866211, 979707, 13190294, 15596515]   \n\n                                   itemitem k-7  \\\n0    [981760, 1127831, 1098066, 826249, 878996]   \n1     [981760, 995242, 840361, 1029743, 961554]   \n2     [1098066, 826249, 854852, 860776, 923746]   \n3    [981760, 1098066, 840361, 883404, 6534178]   \n4  [904360, 866211, 979707, 13190294, 15596515]   \n\n                                  itemitem k-8  \\\n0  [981760, 1127831, 1098066, 826249, 6534178]   \n1    [981760, 995242, 840361, 1029743, 961554]   \n2    [1098066, 826249, 854852, 860776, 923746]   \n3   [981760, 1098066, 840361, 883404, 6534178]   \n4    [904360, 866211, 1096036, 979707, 908531]   \n\n                                  itemitem k-9  \\\n0  [981760, 1127831, 1098066, 826249, 6534178]   \n1   [981760, 995242, 840361, 1029743, 1004906]   \n2    [1098066, 826249, 854852, 860776, 923746]   \n3   [981760, 1098066, 840361, 883404, 6534178]   \n4    [904360, 866211, 1096036, 979707, 908531]   \n\n                                 itemitem k-10  \n0  [981760, 1127831, 1098066, 826249, 6534178]  \n1   [981760, 995242, 840361, 1029743, 1004906]  \n2    [1098066, 826249, 854852, 860776, 923746]  \n3   [981760, 1098066, 840361, 883404, 6534178]  \n4    [904360, 866211, 1096036, 979707, 908531]  ",
      "text/html": "<div>\n<style scoped>\n    .dataframe tbody tr th:only-of-type {\n        vertical-align: middle;\n    }\n\n    .dataframe tbody tr th {\n        vertical-align: top;\n    }\n\n    .dataframe thead th {\n        text-align: right;\n    }\n</style>\n<table border=\"1\" class=\"dataframe\">\n  <thead>\n    <tr style=\"text-align: right;\">\n      <th></th>\n      <th>user_id</th>\n      <th>actual</th>\n      <th>itemitem k-1</th>\n      <th>itemitem k-2</th>\n      <th>itemitem k-3</th>\n      <th>itemitem k-4</th>\n      <th>itemitem k-5</th>\n      <th>itemitem k-6</th>\n      <th>itemitem k-7</th>\n      <th>itemitem k-8</th>\n      <th>itemitem k-9</th>\n      <th>itemitem k-10</th>\n    </tr>\n  </thead>\n  <tbody>\n    <tr>\n      <th>0</th>\n      <td>1</td>\n      <td>[  821867   834484   856942   865456   889248 ...</td>\n      <td>[866227, 995785, 1029743, 1110764, 99999999]</td>\n      <td>[10455984, 12172240, 12810393, 15926844, 12324...</td>\n      <td>[981760, 6534178, 12324948, 15926844, 12810393]</td>\n      <td>[981760, 1127831, 1098066, 854852, 866211]</td>\n      <td>[981760, 1127831, 1098066, 826249, 878996]</td>\n      <td>[981760, 1127831, 1098066, 826249, 878996]</td>\n      <td>[981760, 1127831, 1098066, 826249, 878996]</td>\n      <td>[981760, 1127831, 1098066, 826249, 6534178]</td>\n      <td>[981760, 1127831, 1098066, 826249, 6534178]</td>\n      <td>[981760, 1127831, 1098066, 826249, 6534178]</td>\n    </tr>\n    <tr>\n      <th>1</th>\n      <td>3</td>\n      <td>[  835476   851057   872021   878302   879948 ...</td>\n      <td>[1023958, 8205731, 99999999]</td>\n      <td>[12810393, 13416351, 13945244, 15596279, 13842...</td>\n      <td>[981760, 13416351, 13842214, 13945244, 15596279]</td>\n      <td>[981760, 995242, 908531, 840361, 961554]</td>\n      <td>[981760, 995242, 1029743, 840361, 961554]</td>\n      <td>[981760, 995242, 840361, 1029743, 1004906]</td>\n      <td>[981760, 995242, 840361, 1029743, 961554]</td>\n      <td>[981760, 995242, 840361, 1029743, 961554]</td>\n      <td>[981760, 995242, 840361, 1029743, 1004906]</td>\n      <td>[981760, 995242, 840361, 1029743, 1004906]</td>\n    </tr>\n    <tr>\n      <th>2</th>\n      <td>6</td>\n      <td>[  920308   926804   946489  1006718  1017061 ...</td>\n      <td>[942525, 995785, 1034176, 1046262, 1029743]</td>\n      <td>[12731436, 12731544, 13511722, 15926712, 13003...</td>\n      <td>[12731436, 12731544, 13511722, 15926712, 13003...</td>\n      <td>[1058997, 1098066, 916122, 860776, 1005186]</td>\n      <td>[1098066, 826249, 1106523, 923746, 1058997]</td>\n      <td>[1098066, 826249, 854852, 1106523, 923746]</td>\n      <td>[1098066, 826249, 854852, 860776, 923746]</td>\n      <td>[1098066, 826249, 854852, 860776, 923746]</td>\n      <td>[1098066, 826249, 854852, 860776, 923746]</td>\n      <td>[1098066, 826249, 854852, 860776, 923746]</td>\n    </tr>\n    <tr>\n      <th>3</th>\n      <td>7</td>\n      <td>[  840386   889774   898068   909714   929067 ...</td>\n      <td>[995785, 1046262, 1029743, 99999999]</td>\n      <td>[12384775, 12731436, 13511722, 15511891, 12810...</td>\n      <td>[981760, 12731436, 12810393, 13511722, 15511891]</td>\n      <td>[981760, 1098066, 883404, 916122, 840361]</td>\n      <td>[981760, 1098066, 840361, 883404, 916122]</td>\n      <td>[981760, 1098066, 840361, 883404, 6534178]</td>\n      <td>[981760, 1098066, 840361, 883404, 6534178]</td>\n      <td>[981760, 1098066, 840361, 883404, 6534178]</td>\n      <td>[981760, 1098066, 840361, 883404, 6534178]</td>\n      <td>[981760, 1098066, 840361, 883404, 6534178]</td>\n    </tr>\n    <tr>\n      <th>4</th>\n      <td>8</td>\n      <td>[  835098   872137   910439   924610   992977 ...</td>\n      <td>[935393, 995785, 1034176, 1046262, 1029743]</td>\n      <td>[12810393, 13115903, 13190294, 15596515, 13189...</td>\n      <td>[12810393, 13115903, 13190294, 15596515, 13189...</td>\n      <td>[904360, 13115903, 13189726, 13190294, 15596515]</td>\n      <td>[904360, 13115903, 13189726, 13190294, 15596515]</td>\n      <td>[904360, 866211, 979707, 13190294, 15596515]</td>\n      <td>[904360, 866211, 979707, 13190294, 15596515]</td>\n      <td>[904360, 866211, 1096036, 979707, 908531]</td>\n      <td>[904360, 866211, 1096036, 979707, 908531]</td>\n      <td>[904360, 866211, 1096036, 979707, 908531]</td>\n    </tr>\n  </tbody>\n</table>\n</div>"
     },
     "execution_count": 16,
     "metadata": {},
     "output_type": "execute_result"
    }
   ],
   "source": [
    "item_item_res.head()"
   ],
   "metadata": {
    "collapsed": false,
    "pycharm": {
     "name": "#%%\n"
    }
   }
  },
  {
   "cell_type": "code",
   "execution_count": 17,
   "outputs": [
    {
     "name": "stderr",
     "output_type": "stream",
     "text": [
      "c:\\users\\vlad\\appdata\\local\\programs\\python\\python37-32\\lib\\site-packages\\numpy\\lib\\arraysetops.py:568: FutureWarning: elementwise comparison failed; returning scalar instead, but in the future will perform elementwise comparison\n",
      "  mask |= (ar1 == a)\n"
     ]
    },
    {
     "name": "stdout",
     "output_type": "stream",
     "text": [
      "itemitem k-1:  0.0000\n",
      "itemitem k-2:  0.0000\n",
      "itemitem k-3:  0.0000\n",
      "itemitem k-4:  0.0000\n",
      "itemitem k-5:  0.0000\n",
      "itemitem k-6:  0.0000\n",
      "itemitem k-7:  0.0000\n",
      "itemitem k-8:  0.0000\n",
      "itemitem k-9:  0.0000\n",
      "itemitem k-10:  0.0000\n"
     ]
    }
   ],
   "source": [
    "for col in item_item_res.iloc[:,2:]:\n",
    "    print(col +\": \",\"{0:.4f}\".format(item_item_res.apply(lambda row: m.precision_at_k(row[col], row['actual'], k=5), axis=1).mean()))"
   ],
   "metadata": {
    "collapsed": false,
    "pycharm": {
     "name": "#%%\n"
    }
   }
  }
 ],
 "metadata": {
  "colab": {
   "name": "hw_webinar_2.ipynb",
   "provenance": []
  },
  "kernelspec": {
   "display_name": "Python 3",
   "language": "python",
   "name": "python3"
  },
  "language_info": {
   "codemirror_mode": {
    "name": "ipython",
    "version": 3
   },
   "file_extension": ".py",
   "mimetype": "text/x-python",
   "name": "python",
   "nbconvert_exporter": "python",
   "pygments_lexer": "ipython3",
   "version": "3.7.4"
  }
 },
 "nbformat": 4,
 "nbformat_minor": 1
}